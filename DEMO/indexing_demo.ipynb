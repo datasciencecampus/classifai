{
 "cells": [
  {
   "cell_type": "markdown",
   "metadata": {},
   "source": [
    "# Indexing Demo - Create your own 'Vector Store' with ClassifAI Package"
   ]
  },
  {
   "cell_type": "markdown",
   "metadata": {},
   "source": [
    "## Overview"
   ]
  },
  {
   "cell_type": "markdown",
   "metadata": {},
   "source": [
    "ClassifAI uses Vector Search - consine similarity, distance measure, etc -  to find similar strings to a users input text. Part of the functionality of the ClassifAI package, therefore, is to help users create vector stores from a collection of texts -  which the search can be performed against\n",
    "\n",
    " This Notebook provides a simple guide of how to use the packages Vectoriser and Indexing modules to convert a collection of texts into a corresponding collection of vectors, that can then be used to set up a fully functioning RestAPI search service.\n",
    "\n",
    "<u><b>You will learn:</b></u>\n",
    "\n",
    "- How to generate a vector embeddings parquet file from a CSV file containing the columns ['id', 'text'] using the Vectoriser and Indexer modules of this package\n",
    "\n",
    "\n",
    "<u><b>This Notebook covers:</b></u>\n",
    "\n",
    "- How to create <b>Vectoriser Objects</b> with Gcloud or Huggingface that let you transform strings from text into vectors\n",
    "- How to use these Vectoriser objects with a provided <b>Indexer Function</b> to iterate over a CSV file of texts, creating a vector store.\n",
    "\n",
    "- Minimal setup should be required, installing the ClassifAI package, and logging into Gcloud Vertex AI (or you can try providing a HuggingFace Model)"
   ]
  },
  {
   "cell_type": "markdown",
   "metadata": {},
   "source": [
    "## Installation and Setup"
   ]
  },
  {
   "cell_type": "markdown",
   "metadata": {},
   "source": [
    "### Installing the Package\n",
    "\n",
    "Running the following cell to install the ClassifAI package, when you have your Python Environment setup for this Notebook."
   ]
  },
  {
   "cell_type": "code",
   "execution_count": 24,
   "metadata": {},
   "outputs": [],
   "source": [
    "## PIP INSTALLATION INSTRUCTIONS GO HERE i.e. !pip install package_name from github address"
   ]
  },
  {
   "cell_type": "markdown",
   "metadata": {},
   "source": [
    "### GCloud Project Configuration\n",
    "\n",
    "If you are using GCloud for your project, and have Vertex AI enabled for the project, then you will be able to access the GCloud Vertex AI embedding models for use in this package. We provide a way of obtaining embeddings/vectors from these Language Models hosted by Google. More on that later...\n",
    "\n",
    "For now you just need to log into your Gcloud project by running the command: `gcloud auth application-default login`. This will authenticate you for the project you are working on w.r.t GCloud.\n",
    "\n",
    "If you are not using GCloud, we provide an alternate method to work with embedding model using HuggingFace Transformers, that does not require user authentication."
   ]
  },
  {
   "cell_type": "code",
   "execution_count": null,
   "metadata": {},
   "outputs": [],
   "source": [
    "#Only needs to be run by users using GCloud Vertex AI\n",
    "!gcloud auth application-default login"
   ]
  },
  {
   "cell_type": "markdown",
   "metadata": {},
   "source": [
    "## Creating Vectors with the Vectoriser Class"
   ]
  },
  {
   "cell_type": "markdown",
   "metadata": {},
   "source": [
    "### With Gcloud and Vertex AI"
   ]
  },
  {
   "cell_type": "markdown",
   "metadata": {},
   "source": [
    "We provide Wrapper Classes that make converting text into vectors easy - with GCloud Vertex AI embedding models, (or skip to the next section to HuggingFace Transformer Models instead of Gcloud)\n",
    "\n",
    "Simply enter the project id for you google project that has access to embedding models on Vertex AI like in the example below. It takes 2 additional arguments:\n",
    "\n",
    "* `project_id` : The gcloud project id that vertex is enabled for, and where the models will be called\n",
    "* `location` : Standard cloud argument for where the resource should be called (defaults to `europe-west2`)\n",
    "* `model_name` : the specific embedding model to call on vertex (default is `text-embedding-004`)"
   ]
  },
  {
   "cell_type": "code",
   "execution_count": null,
   "metadata": {},
   "outputs": [],
   "source": [
    "#Import the ClassifAI Package vectoriser model\n",
    "from classifAI_API.vectorisers import GcpVectoriser\n",
    "\n",
    "#Just pass your GCloud Project ID as an argument, for your project that has VERTEX AI setup\n",
    "my_demo_vectoriser = GcpVectoriser(project_id=\"<YOUR_GCLOUD_PROJECT_ID_GOES_HERE>\")\n"
   ]
  },
  {
   "cell_type": "markdown",
   "metadata": {},
   "source": [
    "The code cell above creates one of our <b>'vectoriser' objects</b>, which you can then pass text to and get vectors.\n",
    "\n",
    "Call the `.transform()` method and pass a string to it, like in the cell below:"
   ]
  },
  {
   "cell_type": "code",
   "execution_count": 10,
   "metadata": {},
   "outputs": [
    {
     "data": {
      "text/plain": [
       "array([[-6.41123652e-02,  2.78484495e-03, -5.75615047e-03,\n",
       "         2.09132154e-02, -3.05869561e-02,  5.20960018e-02,\n",
       "         3.16308402e-02,  1.53242995e-03,  7.16841221e-02,\n",
       "        -1.60857365e-02, -1.60744824e-02,  3.65860835e-02,\n",
       "         6.23130938e-03,  6.03814870e-02, -1.30988015e-02,\n",
       "        -2.81967185e-02,  9.13312752e-03,  9.14438665e-02,\n",
       "        -5.34801371e-02,  2.68589426e-02,  6.42369613e-02,\n",
       "         5.79211954e-03, -1.42357508e-02, -4.49805595e-02,\n",
       "         2.24941354e-02, -5.84460376e-03, -1.49912462e-02,\n",
       "        -8.60473793e-03,  1.61052383e-02, -3.51867490e-02,\n",
       "         2.12130994e-02,  5.82003221e-02,  2.20011361e-02,\n",
       "         2.00838950e-02,  5.85184544e-02,  4.83704656e-02,\n",
       "        -3.20709720e-02,  2.29926500e-02,  2.14196686e-02,\n",
       "         1.38152363e-02, -5.71106561e-02,  3.32018435e-02,\n",
       "        -5.57417572e-02,  5.78195229e-02, -2.03742506e-03,\n",
       "        -3.40057164e-02,  8.81149899e-04,  5.97874559e-02,\n",
       "        -3.84803489e-02,  4.59107347e-02,  4.83456850e-02,\n",
       "         4.08507697e-02, -4.36591078e-03,  5.99806011e-03,\n",
       "        -2.29661935e-03,  4.02819272e-03, -3.67341889e-03,\n",
       "         7.94490450e-04, -2.80367932e-03, -4.81770486e-02,\n",
       "         6.38877228e-03, -5.46899345e-03,  2.67325379e-02,\n",
       "        -8.49147502e-04,  1.18171296e-03, -5.60773313e-02,\n",
       "        -6.97007105e-02, -2.06701998e-02, -6.19508140e-03,\n",
       "        -1.42035885e-02, -9.93386284e-03,  6.91029653e-02,\n",
       "        -1.37921087e-02,  3.41261514e-02, -6.79446608e-02,\n",
       "        -6.40148073e-02,  2.88109723e-02, -2.59571839e-02,\n",
       "         4.43919376e-03, -1.41028510e-02, -3.95618379e-03,\n",
       "        -2.18398776e-02,  9.57114175e-02,  4.46770079e-02,\n",
       "         1.25804148e-03,  4.53046449e-02,  1.73336696e-02,\n",
       "        -1.11334370e-02, -4.68447097e-02, -4.18269448e-02,\n",
       "         2.02524085e-02,  1.65264290e-02,  2.49986891e-02,\n",
       "        -1.78872515e-02,  7.15845823e-02, -2.75817420e-02,\n",
       "        -4.92169224e-02, -5.23349717e-02,  5.69413900e-02,\n",
       "         4.39582728e-02,  6.94258437e-02,  2.12562550e-02,\n",
       "         9.72189661e-03, -6.72949255e-02,  2.55308300e-02,\n",
       "        -7.05765327e-03, -2.39502010e-03, -5.94599694e-02,\n",
       "         8.61298107e-03, -9.80888084e-02, -3.96002345e-02,\n",
       "        -3.10239475e-02, -7.12353596e-03, -1.43782320e-02,\n",
       "        -1.16270948e-02,  3.00712720e-03,  1.02205895e-05,\n",
       "         1.99804362e-02, -1.79604739e-02, -3.67235206e-02,\n",
       "         1.58944633e-02, -3.45551297e-02, -9.10115894e-03,\n",
       "        -2.38732640e-02,  3.93278562e-02,  4.16349098e-02,\n",
       "         2.75637433e-02,  1.91335790e-02, -9.21868905e-02,\n",
       "        -3.66622992e-02,  8.50739237e-03, -9.72149000e-02,\n",
       "         7.72876525e-03,  5.96852712e-02, -6.98827952e-02,\n",
       "        -7.85197765e-02, -8.79977364e-03, -7.17025669e-03,\n",
       "         2.52748895e-02,  4.80657034e-02,  1.36317844e-02,\n",
       "         1.25499340e-02, -1.26310680e-02,  4.12298366e-02,\n",
       "         5.84214590e-02, -1.09916180e-02,  2.10448094e-02,\n",
       "        -2.75896257e-03,  6.49439991e-02, -1.96817424e-02,\n",
       "         1.39969960e-03,  1.72971189e-02, -3.06228586e-02,\n",
       "        -1.03526032e-02,  3.17261525e-04, -2.62784809e-02,\n",
       "         5.65169342e-02,  6.04202878e-03,  3.94012257e-02,\n",
       "         1.89257991e-02,  1.34467129e-02, -5.06197065e-02,\n",
       "         3.01341470e-02,  5.59466518e-02, -4.22340892e-02,\n",
       "        -7.41913216e-03, -8.29272717e-02,  1.96574815e-02,\n",
       "        -2.15040911e-02, -4.51914668e-02,  1.20291729e-02,\n",
       "        -2.29247957e-02, -9.49948952e-02, -7.31916502e-02,\n",
       "         2.34832317e-02,  1.21865720e-02,  3.42865512e-02,\n",
       "        -3.47101651e-02, -7.99804740e-03,  2.95704659e-02,\n",
       "         4.70602848e-02, -7.64083071e-03, -3.45472805e-02,\n",
       "         1.08366730e-02, -1.39301820e-02, -1.38710327e-02,\n",
       "         3.66093591e-02,  5.85003980e-02, -1.45402672e-02,\n",
       "         4.00532316e-03, -3.27435322e-02,  1.25954160e-02,\n",
       "         1.03378870e-01,  4.28457484e-02,  4.06142808e-02,\n",
       "        -8.89442768e-03, -7.77080655e-03,  1.60163399e-02,\n",
       "        -3.95368040e-02,  3.99396606e-02,  2.25741044e-02,\n",
       "         1.05119981e-02,  8.95397365e-03, -8.46023578e-03,\n",
       "        -6.16165586e-02,  4.19931896e-02, -3.72332111e-02,\n",
       "        -3.99961174e-02,  1.59791559e-02,  4.94432859e-02,\n",
       "         2.52550207e-02, -2.28354577e-02,  1.16729690e-02,\n",
       "         3.33585404e-02, -5.43775223e-03, -1.48247760e-02,\n",
       "         4.77910191e-02, -6.28946126e-02,  3.96508351e-02,\n",
       "         2.69381981e-02,  6.61915615e-02, -1.58833526e-02,\n",
       "        -8.22798256e-03, -8.12868937e-04, -1.83157697e-02,\n",
       "        -4.45197448e-02, -5.39598130e-02, -2.62969844e-02,\n",
       "         3.70709933e-02, -5.23673035e-02, -2.38973647e-02,\n",
       "         4.46952246e-02,  4.88461033e-02, -2.23732945e-02,\n",
       "         1.40380822e-02,  1.90586913e-02,  8.38437304e-03,\n",
       "        -2.83818152e-02, -1.08167157e-03,  7.58636650e-03,\n",
       "        -1.58979418e-03, -1.89570785e-02,  3.00346799e-02,\n",
       "         2.83880234e-02,  3.52845788e-02,  1.97238196e-02,\n",
       "        -2.60176533e-03,  3.79552767e-02, -5.59936911e-02,\n",
       "         3.75130959e-03, -5.14752567e-02, -1.09535521e-02,\n",
       "        -2.13049520e-02,  2.38629021e-02, -4.42558900e-02,\n",
       "         1.37802481e-03,  3.90801542e-02, -3.16448584e-02,\n",
       "        -4.79004830e-02, -1.74823385e-02,  2.59416178e-02,\n",
       "        -2.99475412e-03, -4.15126681e-02,  2.32931506e-03,\n",
       "        -1.06173437e-02, -1.29809767e-01,  7.56835518e-03,\n",
       "         1.61181241e-02,  6.44350657e-03, -5.56938536e-02,\n",
       "        -5.14088720e-02,  1.25538921e-02,  1.67648662e-02,\n",
       "         4.75944914e-02,  2.01233500e-03,  1.17095595e-03,\n",
       "        -2.39042025e-02, -1.71747021e-02, -4.39884774e-02,\n",
       "         5.21720573e-03, -2.61895265e-02,  5.82124293e-02,\n",
       "         7.42800394e-03, -2.58816057e-03, -8.12762417e-03,\n",
       "        -1.01109985e-02,  1.36696491e-02, -3.81166674e-02,\n",
       "        -5.09201400e-02,  4.90428284e-02,  1.15506360e-02,\n",
       "         5.52132912e-02,  6.00669459e-02, -5.46703935e-02,\n",
       "         1.78874955e-02,  3.83569263e-02,  1.00238891e-02,\n",
       "         1.90684572e-02, -3.75510789e-02,  1.04331011e-02,\n",
       "         4.33969833e-02,  6.36877678e-03, -6.40870705e-02,\n",
       "         6.38807863e-02, -1.10267615e-03,  1.52496882e-02,\n",
       "        -1.66888498e-02, -3.11933160e-02, -8.03376082e-03,\n",
       "         9.20683295e-02,  1.14089279e-02,  2.33344454e-02,\n",
       "        -3.13624516e-02, -2.87487637e-03, -5.01904590e-03,\n",
       "        -3.14444862e-02, -1.55881673e-01,  3.11807133e-02,\n",
       "        -2.06127521e-02,  3.49996276e-02,  2.95007620e-02,\n",
       "        -1.83220934e-02, -7.72490352e-03,  3.20839509e-02,\n",
       "         4.40179594e-02,  1.53541444e-02,  4.14691754e-02,\n",
       "         1.68776978e-02, -7.31160957e-03,  1.84253342e-02,\n",
       "        -1.39055820e-02, -2.03962671e-03, -4.69115423e-03,\n",
       "        -8.43900163e-03, -2.49743536e-02,  5.62764816e-02,\n",
       "        -5.17345555e-02,  4.74401824e-02,  7.46701509e-02,\n",
       "        -2.70645767e-02,  3.77852060e-02,  3.84246558e-03,\n",
       "         5.32361791e-02,  5.40406108e-02,  1.85524002e-02,\n",
       "        -3.06677874e-02,  3.16783153e-02, -1.16292620e-02,\n",
       "        -4.30172635e-03, -1.94878411e-02, -1.80322665e-03,\n",
       "         5.71468994e-02,  2.11236626e-02, -5.54959439e-02,\n",
       "        -3.33386809e-02, -4.68109548e-03,  7.66699761e-03,\n",
       "        -4.00131717e-02, -4.85810116e-02, -5.72250318e-03,\n",
       "         9.48105007e-03,  5.02822474e-02, -5.43604381e-02,\n",
       "         2.50441283e-02,  1.33339902e-02, -1.78758446e-02,\n",
       "         3.74913923e-02,  5.76227941e-02, -2.60120444e-02,\n",
       "         1.68129671e-02,  1.77574493e-02,  1.91695318e-02,\n",
       "        -6.96211727e-03,  8.42086412e-03,  1.30747491e-02,\n",
       "        -4.02164273e-02, -1.09351310e-03,  2.32635103e-02,\n",
       "        -7.07701547e-03, -3.07560638e-02, -6.27106950e-02,\n",
       "        -2.03538854e-02, -3.39887999e-02,  4.05194201e-02,\n",
       "        -3.93928997e-02,  2.90678665e-02, -1.84412897e-02,\n",
       "         1.49295386e-02,  1.84811316e-02,  1.84963178e-03,\n",
       "        -9.75758508e-02,  6.71273619e-02, -1.76298432e-02,\n",
       "        -9.21962317e-03, -8.92580766e-03,  6.18529432e-02,\n",
       "        -1.25250826e-02,  2.63445657e-02,  1.17664570e-02,\n",
       "         4.15191874e-02, -3.48875858e-02, -4.22382392e-02,\n",
       "         5.57031222e-02,  5.96320769e-03, -1.57076251e-02,\n",
       "        -1.27825849e-02,  8.39232579e-02,  7.11488863e-03,\n",
       "        -5.22404967e-04, -5.31307720e-02, -1.19459275e-02,\n",
       "         2.80409120e-02, -1.15125589e-02,  1.52361505e-02,\n",
       "         1.29957953e-02, -4.72889328e-03,  1.34870056e-02,\n",
       "         1.76701434e-02, -5.89696281e-02,  2.52117906e-02,\n",
       "         2.70453468e-02,  1.50810611e-02, -1.69278998e-02,\n",
       "        -5.46925589e-02,  4.98408899e-02, -6.34102151e-02,\n",
       "        -1.98171996e-02, -1.11029195e-02, -1.94636490e-02,\n",
       "        -4.85559087e-03, -1.09300828e-02,  2.36726198e-02,\n",
       "         4.77731824e-02, -3.23799206e-03,  5.52208014e-02,\n",
       "        -1.22422334e-02,  2.12548859e-02,  7.43835606e-03,\n",
       "        -6.29360229e-02,  3.61662582e-02, -3.51700522e-02,\n",
       "        -3.95313352e-02, -3.81071568e-02,  1.75569821e-02,\n",
       "         9.97927412e-03, -4.32078429e-02, -9.86198056e-03,\n",
       "        -9.15136933e-03, -2.85306256e-02, -3.64191458e-02,\n",
       "         8.38722568e-03, -3.88895832e-02, -6.66532069e-02,\n",
       "        -1.69752780e-02, -5.95863536e-02, -4.34363633e-02,\n",
       "        -5.37120155e-04,  4.42990288e-03, -2.46575996e-02,\n",
       "         2.14548372e-02, -6.53978586e-02, -2.35055350e-02,\n",
       "         5.73960803e-02,  2.51613893e-02,  2.15450004e-02,\n",
       "         1.00536291e-02,  2.51001567e-02,  3.45634669e-02,\n",
       "        -7.71731837e-03, -6.59869472e-03,  6.27191588e-02,\n",
       "         1.27711948e-02,  3.73884477e-02, -9.34681296e-03,\n",
       "        -4.64842692e-02, -7.88958222e-02,  1.64968986e-02,\n",
       "         1.19866142e-02, -1.24309165e-03,  2.50291103e-03,\n",
       "        -8.36390257e-03,  4.08278517e-02, -5.09774350e-02,\n",
       "        -2.33100988e-02,  6.06016889e-02, -2.87748221e-02,\n",
       "         1.54662365e-02,  2.49732956e-02,  5.70588633e-02,\n",
       "         1.94762032e-02, -4.70976438e-03,  4.40696515e-02,\n",
       "         5.33128604e-02, -9.80118383e-03,  5.14707109e-03,\n",
       "         3.07592377e-02, -2.04122607e-02,  8.67380574e-03,\n",
       "        -2.80362908e-02,  8.66620988e-03,  3.57198007e-02,\n",
       "         5.16735800e-02,  3.66578959e-02, -7.26547614e-02,\n",
       "        -5.94865158e-02, -1.43451719e-02, -3.20137888e-02,\n",
       "        -2.96807140e-02,  2.68443488e-02, -3.74009833e-02,\n",
       "         5.15185334e-02, -9.99010075e-03,  5.93600124e-02,\n",
       "        -1.18746003e-02,  8.18142202e-03, -1.99338775e-02,\n",
       "        -2.36985404e-02,  4.07662913e-02, -1.05950423e-02,\n",
       "         3.73617336e-02, -9.32283793e-03, -1.72526930e-02,\n",
       "         6.54979199e-02, -8.55662152e-02, -1.84136303e-03,\n",
       "         2.94911359e-02,  5.92256058e-03, -5.67861311e-02,\n",
       "         4.72714975e-02, -4.81048338e-02, -5.26614487e-02,\n",
       "         8.24143514e-02,  5.94230592e-02,  4.31419648e-02,\n",
       "         2.53096297e-02,  3.43753584e-02,  8.52470100e-03,\n",
       "         7.43220607e-03, -2.38761632e-03,  1.66969653e-03,\n",
       "        -1.11750513e-02,  4.05086093e-02,  1.79412924e-02,\n",
       "         1.09945880e-02,  3.61468047e-02,  6.88497350e-02,\n",
       "         1.62907820e-02,  4.11300827e-03, -9.80328210e-03,\n",
       "         6.25224635e-02, -2.31587626e-02, -6.27232343e-02,\n",
       "        -3.68036292e-02, -5.47765419e-02, -7.35032633e-02,\n",
       "        -5.74768579e-04,  4.04912941e-02, -6.50267377e-02,\n",
       "        -5.65791316e-02, -5.58182597e-02,  3.54115255e-02,\n",
       "        -4.62505668e-02,  1.21138785e-02, -8.99235439e-03,\n",
       "        -3.28629836e-02, -2.84455810e-02, -2.14589830e-03,\n",
       "         3.36448923e-02, -4.43796180e-02, -6.82968413e-04,\n",
       "        -6.34038970e-02,  6.54714927e-02,  5.96099393e-03,\n",
       "        -1.72686223e-02,  5.50992489e-02,  3.43637802e-02,\n",
       "        -6.41925484e-02,  2.32278965e-02,  2.67479345e-02,\n",
       "        -2.42984723e-02,  1.58864465e-02,  1.71645209e-02,\n",
       "         2.62828898e-02,  3.95512134e-02, -4.73167226e-02,\n",
       "        -1.18567897e-02, -1.33707579e-02, -1.28632393e-02,\n",
       "         1.87064253e-03, -3.29522789e-02,  4.02126170e-05,\n",
       "         4.77370843e-02, -1.36876274e-02, -3.48066539e-02,\n",
       "        -4.09241812e-03,  1.00944191e-02, -4.83423620e-02,\n",
       "        -3.44700590e-02,  1.01522421e-02, -1.67401973e-02,\n",
       "        -5.73185161e-02, -5.29149584e-02, -9.76397563e-03,\n",
       "         2.49826480e-02, -4.35158052e-03,  4.95143747e-03,\n",
       "         1.07577685e-02, -9.25592333e-03,  1.72632709e-02,\n",
       "         4.46527712e-02, -5.28789274e-02,  3.23569328e-02,\n",
       "        -2.85530277e-02, -2.04384774e-02, -7.22467378e-02,\n",
       "         1.86313130e-02, -3.13951895e-02,  4.08886001e-02,\n",
       "        -5.77706583e-02,  4.00238931e-02,  2.51354743e-02,\n",
       "         1.65161770e-02, -2.02223733e-02, -1.20599624e-02,\n",
       "        -4.31253500e-02, -1.30023239e-02,  1.20877502e-02,\n",
       "         3.84056717e-02,  2.01256871e-02, -3.41833457e-02,\n",
       "         3.63753480e-03, -7.84981623e-03,  6.55835941e-02,\n",
       "         1.61074307e-02, -4.61057536e-02,  8.09720717e-03,\n",
       "        -1.78947728e-02,  6.32824656e-03, -2.19822079e-02,\n",
       "        -3.74372229e-02, -1.18870083e-02,  2.29554977e-02,\n",
       "         3.96768413e-02, -5.87536674e-03, -1.91528331e-02,\n",
       "         7.57029951e-02, -6.59601530e-03, -3.76880518e-03,\n",
       "         3.07717510e-02,  3.29804979e-02, -8.02460313e-03,\n",
       "         3.01013961e-02,  1.75261479e-02,  2.41868454e-03,\n",
       "        -4.00459059e-02, -5.01135888e-04, -6.87004775e-02,\n",
       "         2.05555074e-02,  2.99428450e-03,  2.10806075e-02,\n",
       "        -4.69160192e-02, -6.64343825e-03, -4.83665802e-02,\n",
       "         2.71971282e-02,  2.21838355e-02, -4.20800149e-02,\n",
       "        -4.31261957e-02, -2.80959439e-02, -1.34397717e-03,\n",
       "        -4.99449223e-02, -9.12120473e-03, -1.76092256e-02,\n",
       "         1.61346998e-02,  1.20162673e-03,  4.73879231e-03,\n",
       "         4.37500700e-02,  4.50096615e-02,  2.60875747e-02,\n",
       "         1.86628625e-02,  3.52160521e-02, -3.30739245e-02,\n",
       "        -1.52068846e-02,  1.72528196e-02,  5.36054634e-02,\n",
       "         4.35490124e-02,  2.52536517e-02,  1.20159704e-02,\n",
       "         1.85978715e-03,  1.33512197e-02, -5.85666345e-03,\n",
       "        -1.40884388e-02,  1.70333795e-02, -9.97505710e-03,\n",
       "         4.05159518e-02, -1.73359681e-02,  6.97120950e-02,\n",
       "        -2.86343303e-02,  9.06256121e-03, -5.99389989e-03,\n",
       "        -2.83576827e-02, -3.28740641e-03, -2.74795070e-02,\n",
       "        -1.41011337e-02, -3.09359878e-02,  1.25507060e-02,\n",
       "        -3.05248089e-02,  9.27959289e-03, -2.46644132e-02,\n",
       "        -3.69485915e-02, -4.48800856e-03, -9.04385522e-02,\n",
       "        -2.83962805e-02,  6.85840324e-02,  2.87851151e-02,\n",
       "        -4.10216860e-02,  5.41966744e-02,  9.22768936e-03,\n",
       "         3.54139879e-02, -3.43541838e-02, -3.64932120e-02,\n",
       "         1.67690869e-02, -4.52412181e-02,  5.95410168e-02,\n",
       "         1.87860001e-02,  2.33374499e-02,  1.78631507e-02,\n",
       "        -5.39365262e-02,  3.08018718e-02,  2.23306865e-02,\n",
       "         4.95325737e-02,  6.29012734e-02,  5.11743836e-02,\n",
       "        -2.32595410e-02, -2.07537767e-02, -2.89635230e-02,\n",
       "         2.42388509e-02,  3.88883869e-03, -3.83943552e-03,\n",
       "        -5.55211119e-03,  4.26478777e-03,  4.46716212e-02,\n",
       "         6.64826308e-04, -1.24434978e-02, -4.40733228e-03,\n",
       "         3.12982767e-04,  8.15433543e-03, -7.72754475e-03,\n",
       "        -5.66340610e-02,  5.18930203e-04,  1.96332075e-02,\n",
       "         1.05931680e-03,  3.91908325e-02, -8.41172971e-03,\n",
       "         7.61053935e-02, -1.65077187e-02, -5.13370661e-03,\n",
       "         8.48340243e-02, -2.98839528e-02,  5.57783321e-02,\n",
       "         2.41027474e-02, -3.30735072e-02,  2.27622837e-02,\n",
       "        -1.49878645e-02,  7.69575406e-03,  3.15152556e-02,\n",
       "        -2.70274691e-02, -2.67698104e-03, -2.03653444e-02]])"
      ]
     },
     "execution_count": 10,
     "metadata": {},
     "output_type": "execute_result"
    }
   ],
   "source": [
    "#This creates a Vectoriser Object that you can use to embed text (convert them to vectors)\n",
    "\n",
    "#just call the .transform method on the class\n",
    "vector = my_demo_vectoriser.transform(\"The quick brown fox jumped over the log\")\n",
    "\n",
    "#display the returned vector, which is returned in numpy format\n",
    "vector"
   ]
  },
  {
   "cell_type": "code",
   "execution_count": 11,
   "metadata": {},
   "outputs": [
    {
     "data": {
      "text/plain": [
       "(2, 768)"
      ]
     },
     "execution_count": 11,
     "metadata": {},
     "output_type": "execute_result"
    }
   ],
   "source": [
    "#you can also pass a list of strings to the transform method and it will encode them as a batch\n",
    "vector2 = my_demo_vectoriser.transform(['My favourite colour is green', 'my favourite ice-cream is mint-choc-chip'])\n",
    "\n",
    "vector2.shape"
   ]
  },
  {
   "cell_type": "markdown",
   "metadata": {},
   "source": [
    "### With Huggingface Transformers"
   ]
  },
  {
   "cell_type": "markdown",
   "metadata": {},
   "source": [
    "<b>If you don't have Gcloud with Vertex AI setup...</b> You can try using the HuggingFace Vectoriser Class, which you can pass a publically avaialble model name thats hosted on HuggingFace:\n",
    "\n",
    "Isntead of passing a project ID, users can pass the name of an embedding language model they want to use. Currently we've tested support for the following models:\n",
    "\n",
    "- sentence-transformers/all-MiniLM-L6-v2\n",
    "- google-bert/bert-base-uncased"
   ]
  },
  {
   "cell_type": "markdown",
   "metadata": {},
   "source": [
    "<b>WARNING</b>\n",
    "\n",
    "* If you use the HuggingFace vectoriser class, this will download the model to your machine - and attempt to perform operations locally using your CPU. \n",
    "\n",
    "* If you are using the GCP vectoriser class, this will send the text to the Vertex API - therefore no model processing happens on your local machine"
   ]
  },
  {
   "cell_type": "code",
   "execution_count": null,
   "metadata": {},
   "outputs": [],
   "source": [
    "#this time importing Huggingface_Vectoriser from the same module, and passing it a model name rather than the GCloud Project ID.\n",
    "from classifAI_API.vectorisers import HuggingFaceVectoriser\n",
    "\n",
    "second_demo_vectoriser = HuggingFaceVectoriser(model_name=\"sentece-transformers/all-MiniLM-L6-v2\")\n"
   ]
  },
  {
   "cell_type": "code",
   "execution_count": 20,
   "metadata": {},
   "outputs": [
    {
     "data": {
      "text/plain": [
       "(2, 768)"
      ]
     },
     "execution_count": 20,
     "metadata": {},
     "output_type": "execute_result"
    }
   ],
   "source": [
    "#and creating the vectors with this new vectoriser model, instantiated using HuggingFace models, instead of Vertex AI models\n",
    "\n",
    "more_vectors = second_demo_vectoriser.transform(['my least favourite colour is red', \"I don't like strawberry ice cream\"])\n",
    "\n",
    "more_vectors.shape"
   ]
  },
  {
   "cell_type": "markdown",
   "metadata": {},
   "source": [
    "## Indexing - Creating a Vector Store\n",
    "\n",
    "<u><b>The previous section discussed</b></u> how to set up Language Models to create embeddings from string.\n",
    "\n",
    "\n",
    "<u><b>This current section shows</b></u> how to create a full vector store from a CSV file of strings"
   ]
  },
  {
   "cell_type": "markdown",
   "metadata": {},
   "source": [
    "### Make sure we have a vectoriser\n",
    "\n",
    "The function to create a vector store uses the vectoriser created in the previous section!\n",
    "\n",
    "<b>Make sure you have one initialised from the previous section or run one of the following...</b>"
   ]
  },
  {
   "cell_type": "code",
   "execution_count": null,
   "metadata": {},
   "outputs": [],
   "source": [
    "#instantiating a vectoriser object again, if needed\n",
    "from classifAI_API.vectorisers import HuggingFaceVectoriser\n",
    "demo_vectoriser = GcpVectoriser(project_id=\"<YOUR_PROJECT_ID>\")"
   ]
  },
  {
   "cell_type": "markdown",
   "metadata": {},
   "source": [
    "<b>or if not using vertex, instead use the Huggingface class:</b>"
   ]
  },
  {
   "cell_type": "code",
   "execution_count": 27,
   "metadata": {},
   "outputs": [],
   "source": [
    "#from classifAI_API.vectorisers import Huggingface_Vectoriser\n",
    "#demo_vectoriser = Huggingface_Vectoriser(model_name=\"sentence-transformers/all-MiniLM-L6-v2\")"
   ]
  },
  {
   "cell_type": "markdown",
   "metadata": {},
   "source": [
    "### The `create_vector_index_from_string()` function\n",
    "\n",
    "We provide a simple function that accepts as arguments\n",
    "  - a path to a CSV file of text data\n",
    "  - the dataType of the file (`'csv'` is currently the only available file type)\n",
    "  - the vectoriser you created\n",
    "  - a batch size to indicate how many rows from the file to process at once\n",
    "\n",
    "\n",
    "  Currently, this function takes the path to a CSV file, which should have two columns ['id', 'text']. See an example from this package github: DEMO/demo_data.csv\n",
    "  \n",
    "  It creates an embedding for each row in the file, and saves the emmbeddings with original strings and ID in a parquet file"
   ]
  },
  {
   "cell_type": "code",
   "execution_count": null,
   "metadata": {},
   "outputs": [],
   "source": []
  },
  {
   "cell_type": "code",
   "execution_count": 23,
   "metadata": {},
   "outputs": [
    {
     "name": "stderr",
     "output_type": "stream",
     "text": [
      "INFO - Processing file: demo_data.csv in batches of size 8...\n",
      "\n",
      "Processing batches: 2it [00:00,  4.88it/s]\n",
      "INFO - Finished creating vectors, attempting to save to parquet file...\n",
      "INFO - DataFrame created with 13 rows and 3 columns.\n",
      "INFO - Saved DataFrame to Parquet file: demo_data.csv.parquet\n"
     ]
    },
    {
     "name": "stdout",
     "output_type": "stream",
     "text": [
      "---------\n"
     ]
    }
   ],
   "source": [
    "from classifAI_API.indexers import create_vector_index_from_string_file\n",
    "\n",
    "\n",
    "PATH_TO_DEMO_CSV = \"demo_data.csv\"\n",
    "\n",
    "\n",
    "vector_df = create_vector_index_from_string_file(\n",
    "    fileName=PATH_TO_DEMO_CSV, \n",
    "    dataType='csv', \n",
    "    embedder=my_demo_vectoriser, # the variable name of your vectoriser goes here!\n",
    "    batch_size=8)\n",
    "\n"
   ]
  },
  {
   "cell_type": "markdown",
   "metadata": {},
   "source": [
    "The above function saves the created embeddings and original texts + id to a parquet file, and it also returns a pandas dataframe of the data which you can view"
   ]
  },
  {
   "cell_type": "code",
   "execution_count": 18,
   "metadata": {},
   "outputs": [
    {
     "data": {
      "text/html": [
       "<div>\n",
       "<style scoped>\n",
       "    .dataframe tbody tr th:only-of-type {\n",
       "        vertical-align: middle;\n",
       "    }\n",
       "\n",
       "    .dataframe tbody tr th {\n",
       "        vertical-align: top;\n",
       "    }\n",
       "\n",
       "    .dataframe thead th {\n",
       "        text-align: right;\n",
       "    }\n",
       "</style>\n",
       "<table border=\"1\" class=\"dataframe\">\n",
       "  <thead>\n",
       "    <tr style=\"text-align: right;\">\n",
       "      <th></th>\n",
       "      <th>id</th>\n",
       "      <th>text</th>\n",
       "      <th>embeddings</th>\n",
       "    </tr>\n",
       "  </thead>\n",
       "  <tbody>\n",
       "    <tr>\n",
       "      <th>0</th>\n",
       "      <td>1</td>\n",
       "      <td>The quick brown fox jumped over the log</td>\n",
       "      <td>[-0.06411236524581909, 0.0027848449535667896, ...</td>\n",
       "    </tr>\n",
       "    <tr>\n",
       "      <th>1</th>\n",
       "      <td>2</td>\n",
       "      <td>You can't spell Spain without pain</td>\n",
       "      <td>[0.00010710849892348051, -0.03479038178920746,...</td>\n",
       "    </tr>\n",
       "    <tr>\n",
       "      <th>2</th>\n",
       "      <td>3</td>\n",
       "      <td>the weather is nice today in Edinburgh</td>\n",
       "      <td>[-0.05706198886036873, 0.001962454291060567, -...</td>\n",
       "    </tr>\n",
       "    <tr>\n",
       "      <th>3</th>\n",
       "      <td>4</td>\n",
       "      <td>The quick brown fox jumped over the log</td>\n",
       "      <td>[-0.06411236524581909, 0.0027848449535667896, ...</td>\n",
       "    </tr>\n",
       "    <tr>\n",
       "      <th>4</th>\n",
       "      <td>5</td>\n",
       "      <td>You can't spell Spain without pain</td>\n",
       "      <td>[0.00010710849892348051, -0.03479038178920746,...</td>\n",
       "    </tr>\n",
       "  </tbody>\n",
       "</table>\n",
       "</div>"
      ],
      "text/plain": [
       "  id                                      text  \\\n",
       "0  1   The quick brown fox jumped over the log   \n",
       "1  2        You can't spell Spain without pain   \n",
       "2  3    the weather is nice today in Edinburgh   \n",
       "3  4   The quick brown fox jumped over the log   \n",
       "4  5        You can't spell Spain without pain   \n",
       "\n",
       "                                          embeddings  \n",
       "0  [-0.06411236524581909, 0.0027848449535667896, ...  \n",
       "1  [0.00010710849892348051, -0.03479038178920746,...  \n",
       "2  [-0.05706198886036873, 0.001962454291060567, -...  \n",
       "3  [-0.06411236524581909, 0.0027848449535667896, ...  \n",
       "4  [0.00010710849892348051, -0.03479038178920746,...  "
      ]
     },
     "execution_count": 18,
     "metadata": {},
     "output_type": "execute_result"
    }
   ],
   "source": [
    "vector_df.head()"
   ]
  },
  {
   "cell_type": "markdown",
   "metadata": {},
   "source": [
    "## That's it!\n",
    "\n",
    "The dataframe is already saved to filespace as part of the function. \n",
    "\n",
    "Thanks for following through with this tutorial. Check out the readme on the repo for the quick start guide on indexing. 😃"
   ]
  },
  {
   "cell_type": "markdown",
   "metadata": {},
   "source": []
  }
 ],
 "metadata": {
  "kernelspec": {
   "display_name": ".venv",
   "language": "python",
   "name": "python3"
  },
  "language_info": {
   "codemirror_mode": {
    "name": "ipython",
    "version": 3
   },
   "file_extension": ".py",
   "mimetype": "text/x-python",
   "name": "python",
   "nbconvert_exporter": "python",
   "pygments_lexer": "ipython3",
   "version": "3.12.9"
  }
 },
 "nbformat": 4,
 "nbformat_minor": 2
}
