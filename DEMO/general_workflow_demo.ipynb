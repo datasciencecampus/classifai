{
 "cells": [
  {
   "cell_type": "markdown",
   "metadata": {},
   "source": [
    "# ClassifAI Package \n",
    "## Object Oriented Demo ✨\n"
   ]
  },
  {
   "cell_type": "markdown",
   "metadata": {},
   "source": [
    "#### The ClassifAI package is a tool to help in the creation and serving of vector databases, for classification tasks."
   ]
  },
  {
   "cell_type": "markdown",
   "metadata": {},
   "source": [
    "#### This Notebook is a quick guide that shows how the package can separate three main concerns involved in making a live, searchable, vector database for your applications:"
   ]
  },
  {
   "cell_type": "markdown",
   "metadata": {
    "vscode": {
     "languageId": "plaintext"
    }
   },
   "source": [
    "1. **Vectorising** - The creation of vectors from text  \n",
    "2. **Indexing** - The creation of a vector store, converting many texts to vectors \n",
    "3. **Serving** - Wrapping the Vector Store in an API to make it searchable from endpoints"
   ]
  },
  {
   "cell_type": "markdown",
   "metadata": {},
   "source": [
    "#### We provide three key modules in this package, that let you build Rest-API search systems from your text data using these three classes together in one development process."
   ]
  },
  {
   "cell_type": "markdown",
   "metadata": {},
   "source": [
    "## Setup"
   ]
  },
  {
   "cell_type": "code",
   "execution_count": null,
   "metadata": {},
   "outputs": [],
   "source": [
    "!pip install ipykernel\n",
    "!pip install ipywidgets\n",
    "\n",
    "# or use the corresponding uv commands"
   ]
  },
  {
   "cell_type": "code",
   "execution_count": null,
   "metadata": {},
   "outputs": [],
   "source": [
    "!pip install git+https://github.com/datasciencecampus/classifAI_package"
   ]
  },
  {
   "cell_type": "code",
   "execution_count": null,
   "metadata": {},
   "outputs": [],
   "source": [
    "# if you have a gcloud account that has Vertex AI embedding models enabled, you can run this line to use those embedding models in this demo\n",
    "!gcloud auth application-default login"
   ]
  },
  {
   "cell_type": "markdown",
   "metadata": {},
   "source": [
    "## Vectorising\n",
    "\n",
    "#### We provide several vectoriser classes - that you can use to convert text to embeddings/vectors"
   ]
  },
  {
   "cell_type": "code",
   "execution_count": null,
   "metadata": {},
   "outputs": [],
   "source": [
    "from IPython.display import Image, display\n",
    "\n",
    "display(Image(filename=\"./files/vectoriser.png\"))"
   ]
  },
  {
   "cell_type": "code",
   "execution_count": null,
   "metadata": {},
   "outputs": [],
   "source": [
    "from classifai_package.vectorisers import HuggingFaceVectoriser\n",
    "\n",
    "# But this also works with many different huggingface models!\n",
    "vectoriser = HuggingFaceVectoriser(model_name=\"sentence-transformers/all-MiniLM-L6-v2\")\n",
    "\n",
    "my_first_vector = vectoriser.transform(\"Classifai_package is a great tool for building AI applications.\")\n",
    "\n",
    "my_first_vector"
   ]
  },
  {
   "cell_type": "markdown",
   "metadata": {},
   "source": [
    "#### Huggingface models might be the most accessible, but we also provide a GCP_Vectoriser if you have a vertex account set up!"
   ]
  },
  {
   "cell_type": "code",
   "execution_count": null,
   "metadata": {},
   "outputs": [],
   "source": [
    "from classifai_package.vectorisers import GcpVectoriser\n",
    "\n",
    "my_gcp_vectoriser = GcpVectoriser(\n",
    "    project_id=\"<YOUR PROJECT ID>\",\n",
    ")\n",
    "\n",
    "my_second_vector = my_gcp_vectoriser.transform(\"The quick brown fox jumps over the log\")\n",
    "\n",
    "my_second_vector.shape"
   ]
  },
  {
   "cell_type": "markdown",
   "metadata": {},
   "source": [
    "#### Both of these Vectoriser classes accept strings (or lists of strings) and return numpy arrays:"
   ]
  },
  {
   "cell_type": "markdown",
   "metadata": {},
   "source": [
    "## Indexing"
   ]
  },
  {
   "cell_type": "markdown",
   "metadata": {},
   "source": [
    "#### We then provide an Indexer Class that allows you to create and store vectors. You pass it **any** of the Vectoriser models\n",
    "\n",
    "#### its job is to iterate over a csv file you provide and convert it to vectors and store it:"
   ]
  },
  {
   "cell_type": "code",
   "execution_count": null,
   "metadata": {},
   "outputs": [],
   "source": [
    "from IPython.display import Image, display\n",
    "\n",
    "display(Image(filename=\"./files/VectorStore.png\"))"
   ]
  },
  {
   "cell_type": "code",
   "execution_count": null,
   "metadata": {},
   "outputs": [],
   "source": [
    "from classifai_package.indexers import VectorStore\n",
    "\n",
    "my_vector_store = VectorStore(\n",
    "    file_name=\"data/testdata.csv\",\n",
    "    data_type=\"csv\",\n",
    "    vectoriser=vectoriser,  # or switch to the GcpVectoriser if you have it :)\n",
    "    batch_size=10,\n",
    ")"
   ]
  },
  {
   "cell_type": "markdown",
   "metadata": {},
   "source": [
    "#### Once this is created you can search the vector store by calling the .search() method on the object!\n",
    "\n",
    "`You might also notice that the vector store and its metadata are now stored in the \"testdata\" folder`\n",
    "\n",
    "From here you can load existing vector stores in from memory without doing the indexing again - call the class method **VectorStore.from_filespace()**"
   ]
  },
  {
   "cell_type": "code",
   "execution_count": null,
   "metadata": {},
   "outputs": [],
   "source": [
    "my_vector_store.search(\"What colour is snow?\")"
   ]
  },
  {
   "cell_type": "code",
   "execution_count": null,
   "metadata": {},
   "outputs": [],
   "source": [
    "# or multiple queries at once!    (and specify how many results you want per query)\n",
    "my_vector_store.search([\"What colour is snow?\", \"what is inside books\"], n_results=5)"
   ]
  },
  {
   "cell_type": "markdown",
   "metadata": {},
   "source": [
    "#### You can also search by id by calling the .reverse_search method on the object"
   ]
  },
  {
   "cell_type": "code",
   "execution_count": null,
   "metadata": {},
   "outputs": [],
   "source": [
    "my_vector_store.reverse_search([\"1100\", \"1056\"])"
   ]
  },
  {
   "cell_type": "markdown",
   "metadata": {},
   "source": [
    "#### this all seemlessly uses the vector model and the vector database you indexed to bring you the top K search results"
   ]
  },
  {
   "cell_type": "markdown",
   "metadata": {},
   "source": [
    "## Serving up your VectorStore!"
   ]
  },
  {
   "cell_type": "markdown",
   "metadata": {},
   "source": [
    "#### So you've created a vectorstore, with you chosen vectoriser, that makes vectors and you can search it.... **how do I host it so others can use it?**"
   ]
  },
  {
   "cell_type": "code",
   "execution_count": null,
   "metadata": {},
   "outputs": [],
   "source": [
    "from IPython.display import Image, display\n",
    "\n",
    "display(Image(filename=\"./files/servers.png\"))"
   ]
  },
  {
   "cell_type": "code",
   "execution_count": null,
   "metadata": {},
   "outputs": [],
   "source": [
    "import nest_asyncio\n",
    "\n",
    "from classifai_package.servers import start_api\n",
    "\n",
    "nest_asyncio.apply()  # this line just makes it possible to run the server in a Jupyter notebook, you would not need this in a normal python script.\n",
    "\n",
    "\n",
    "start_api(vector_stores=[my_vector_store], endpoint_names=[\"my_endpoint\"], port=8000)"
   ]
  },
  {
   "cell_type": "markdown",
   "metadata": {},
   "source": [
    "## Roundup\n",
    "\n",
    "#### That's it - you should now have made a running restAPI service that lets you search the texts you indexed in the test CSV.\n",
    "\n",
    "#### Check out the GitHub repo, where there is a quick start guide in the Readme.md 😊"
   ]
  },
  {
   "cell_type": "markdown",
   "metadata": {},
   "source": []
  }
 ],
 "metadata": {
  "kernelspec": {
   "display_name": ".venv",
   "language": "python",
   "name": "python3"
  },
  "language_info": {
   "codemirror_mode": {
    "name": "ipython",
    "version": 3
   },
   "file_extension": ".py",
   "mimetype": "text/x-python",
   "name": "python",
   "nbconvert_exporter": "python",
   "pygments_lexer": "ipython3",
   "version": "3.12.3"
  }
 },
 "nbformat": 4,
 "nbformat_minor": 2
}
