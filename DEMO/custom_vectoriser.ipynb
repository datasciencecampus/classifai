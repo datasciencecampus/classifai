{
 "cells": [
  {
   "cell_type": "markdown",
   "metadata": {},
   "source": [
    "# Creating Your Own Vectoriser\n",
    "\n",
    "The ClassifAI Package is organised into three key modules, which work together to help you build and host a search engine. These are:\n",
    "\n",
    "1. Vectorisers - Models for converting from text to vectors\n",
    "2. Indexers - Classes for building vector stores from text datasets that you can search\n",
    "3. Servers - Allows you to deploy a VectorStore with a RestAPI interface on a server\n"
   ]
  },
  {
   "cell_type": "markdown",
   "metadata": {},
   "source": [
    "This notebook showcases how to create your own custom Vectoriser - we already provide several out-of-the-box Vectoriser classes for converting text to embeddings that essentially provide shortcuts for several common methods i.e. gcloud embedding services, Huggingface models, and Ollama. \n",
    "\n",
    "But what if you wanted to make your own custom embedding vectoriser model, that uses your own fancy embedding method...."
   ]
  },
  {
   "cell_type": "markdown",
   "metadata": {},
   "source": [
    "## In this Notebook...\n",
    "\n",
    "We will show:\n",
    "* The core workings of the Vectotiser Class and its responsibilities\n",
    "* How to create a custom One-Hot encoding vectoriser from scratch that will work seemlessly with the rest of the ClassifAI Package\n",
    "* the custom One-Hot Encoding vectoriser being used with the Indexer module to create and search a VectorStore!"
   ]
  },
  {
   "cell_type": "markdown",
   "metadata": {},
   "source": [
    "## The Vectoriser"
   ]
  },
  {
   "cell_type": "code",
   "execution_count": null,
   "metadata": {},
   "outputs": [],
   "source": [
    "from IPython.display import Image, display\n",
    "\n",
    "display(Image(filename=\"./files/vectoriser.png\"))"
   ]
  },
  {
   "cell_type": "markdown",
   "metadata": {},
   "source": [
    "As seen above, Vectorisers' sole responsibility is to convert text to a vector representation. Each Vectoriser class must implement a transform() method that will:\n",
    "\n",
    "1. accept a string or list of N strings as an argument\n",
    "2. return a numpy array of dimension [N,Y] where N matches the number of input strings, and Y is the embedding dimension)\n",
    "\n",
    "By enforcing this interface, of having a single 'transform()' method for every vectoriser, it means that the Indexers and Servers modules cna predictably work with any Vectoriser object to perform the various search engine functions of this Package. \n",
    "\n",
    "Therefore, all a user has to consider when building their own vectoriser is the logic of this transform() method"
   ]
  },
  {
   "cell_type": "markdown",
   "metadata": {},
   "source": [
    "## Lets build an One-Hot-Encoding Vectoriser\n",
    "\n",
    "One-hot encoding is a simple method of converting from text to vector format. Each element in a one-hot encoded vector represents the presence or absence of a particular word in a large vocabulary. Therefore the length of the vector represents the size of the vocabulary. Each word in a sentence is transformed so that the the corresponding positional elements in the one-hot encoding vector will be set to 1. So, all sentences that contain the word 'dog' should all have the same element i of their vectors set to 1, which is the element that represents the presence of the word dog. Finally, if the converted sentence only contains 5 words, then the vector will only have 5 non-zero elements at most."
   ]
  },
  {
   "cell_type": "code",
   "execution_count": null,
   "metadata": {},
   "outputs": [],
   "source": [
    "# we're going to use scikit learns countvectoriser to create our one hot embeddings\n",
    "!pip install scikit-learn"
   ]
  },
  {
   "cell_type": "code",
   "execution_count": null,
   "metadata": {},
   "outputs": [],
   "source": [
    "# One-hot encoding vectoriser implememntation.\n",
    "\n",
    "# 1. Class must inherit from the VectoriserBase class.\n",
    "# 2. The class must implement the transform method.\n",
    "\n",
    "\n",
    "# importing sklearns CountVectorizer, a common library tool for vectorisation.\n",
    "import numpy as np\n",
    "from sklearn.feature_extraction.text import CountVectorizer\n",
    "\n",
    "from classifai_package.vectorisers import VectoriserBase\n",
    "\n",
    "\n",
    "class OneHotVectoriser(VectoriserBase):\n",
    "    def __init__(self, vocabulary: list[str]):\n",
    "        if not vocabulary:\n",
    "            raise ValueError(\"Vocabulary cannot be empty.\")\n",
    "        self.vectorizer = CountVectorizer(binary=True, vocabulary=vocabulary)\n",
    "\n",
    "    def transform(self, texts: str | list[str]) -> np.ndarray:\n",
    "        # checking if the input is a string and converting to a list if so\n",
    "        if isinstance(texts, str):\n",
    "            texts = [texts]\n",
    "\n",
    "        # we add some light type checking to make sure the input is correct\n",
    "        if not isinstance(texts, list):\n",
    "            raise TypeError(\"Input must be a string or a list of strings.\")\n",
    "\n",
    "        # Generate one-hot encodings using the CountVectorizer from Scikit-learn\n",
    "        one_hot_matrix = self.vectorizer.transform(texts).toarray()\n",
    "        return one_hot_matrix"
   ]
  },
  {
   "cell_type": "markdown",
   "metadata": {},
   "source": [
    "We've written our custom vectoriser to accept a vocabulary as an argument during instantiation.\n",
    "\n",
    "You could hardcode a specific vocabulary, but doing it this way would make our class reusable so that we could instantiate different OneHotVectorisers with different vocabularies\n",
    "\n",
    "We're going to download and use Google's 10,000 most common words - a very well known file - as our vocab for our first custom one hot encoder model."
   ]
  },
  {
   "cell_type": "code",
   "execution_count": null,
   "metadata": {},
   "outputs": [],
   "source": [
    "import os\n",
    "\n",
    "import requests\n",
    "\n",
    "### First we need to download the vocabulary\n",
    "\n",
    "# Check if the file already exists locally\n",
    "if not os.path.exists(\"google-10000-english.txt\"):\n",
    "    # download file\n",
    "    url = \"https://raw.github.com/first20hours/google-10000-english/master/google-10000-english.txt\"\n",
    "    # Path to save the file locally\n",
    "    output_file = \"google-10000-english.txt\"\n",
    "\n",
    "    # Download the file\n",
    "    response = requests.get(url, timeout=10)\n",
    "    if response.status_code == requests.codes.ok:\n",
    "        with open(output_file, \"w\") as file:\n",
    "            file.write(response.text)\n",
    "        print(f\"File downloaded and saved as {output_file}\")\n",
    "    else:\n",
    "        print(f\"Failed to download file. HTTP Status Code: {response.status_code}\")\n",
    "\n",
    "\n",
    "# Load vocabulary from the downloaded file\n",
    "with open(\"google-10000-english.txt\") as file:\n",
    "    vocabulary = [line.strip() for line in file.readlines()]\n",
    "\n",
    "print(f\"Vocabulary loaded with {len(vocabulary)} words.\")\n",
    "# Now we can create an instance of the OneHotVectoriser with the loaded vocabulary"
   ]
  },
  {
   "cell_type": "code",
   "execution_count": null,
   "metadata": {},
   "outputs": [],
   "source": [
    "# Now we can create an instance of the OneHotVectoriser with the loaded vocabulary\n",
    "\n",
    "first_onehot_vectoriser = OneHotVectoriser(vocabulary=vocabulary)"
   ]
  },
  {
   "cell_type": "markdown",
   "metadata": {},
   "source": [
    "Thats it! Lets try it out by passing some text to the transform method! \n",
    "\n",
    "Lets verify a few things, and ensure that the input accepts texts and lists of texts. and also that its returning the right numpy arrays!"
   ]
  },
  {
   "cell_type": "code",
   "execution_count": null,
   "metadata": {},
   "outputs": [],
   "source": [
    "vector_one = first_onehot_vectoriser.transform(\"The quick brown fox jumped over the log\")\n",
    "\n",
    "print(f\"One-hot vector shape: {vector_one.shape}\")\n",
    "print(f\"One-hot vector type: {type(vector_one)}\")\n",
    "print(\"-----\")\n",
    "print(vector_one)"
   ]
  },
  {
   "cell_type": "code",
   "execution_count": null,
   "metadata": {},
   "outputs": [],
   "source": [
    "# we can also see how many elements of the vector are non-zero (should be equal to the number of unique words in the input text)\n",
    "print(f\"Number of non-zero elements in the vector: {np.count_nonzero(vector_one)}\")"
   ]
  },
  {
   "cell_type": "code",
   "execution_count": null,
   "metadata": {},
   "outputs": [],
   "source": [
    "# We can also pass a list of strings to the transform method\n",
    "vector_two = first_onehot_vectoriser.transform(\n",
    "    [\"The quick brown fox jumped over the log\", \"Slow and steady wins the race\"]\n",
    ")\n",
    "print(f\"One-hot vector shape: {vector_two.shape}\")\n",
    "print(f\"One-hot vector type: {type(vector_two)}\")\n",
    "print(\"-----\")\n",
    "print(vector_two)"
   ]
  },
  {
   "cell_type": "markdown",
   "metadata": {},
   "source": [
    "## Lets Use One-Hot-Encoding Vectoriser to create a VectorStore!"
   ]
  },
  {
   "cell_type": "markdown",
   "metadata": {},
   "source": [
    "If you followed along with the code above, you should now have a custom vectoriser in memory and it should be fully compatiable with the rest of the Package.\n",
    "\n",
    "We are now going to steal the second section of the oo_prototype_demo.ipynb script and build a VectorStore with the 'data/testdata.csv' file."
   ]
  },
  {
   "cell_type": "code",
   "execution_count": null,
   "metadata": {},
   "outputs": [],
   "source": [
    "from classifai_package.indexers import VectorStore\n",
    "\n",
    "my_vector_store = VectorStore(\n",
    "    file_name=\"data/testdata.csv\",\n",
    "    data_type=\"csv\",\n",
    "    vectoriser=first_onehot_vectoriser,  # or switch to the GcpVectoriser if you have it :)\n",
    "    batch_size=10,\n",
    "    overwrite=True,\n",
    ")"
   ]
  },
  {
   "cell_type": "markdown",
   "metadata": {},
   "source": [
    "We've build a vector store! Now to search it with a query"
   ]
  },
  {
   "cell_type": "code",
   "execution_count": null,
   "metadata": {},
   "outputs": [],
   "source": [
    "onehot_search_results = my_vector_store.search(\"Places with a vast delta\")\n",
    "\n",
    "onehot_search_results"
   ]
  },
  {
   "cell_type": "markdown",
   "metadata": {},
   "source": [
    "## That's it!\n",
    "\n",
    "That's everything these is to it. By implementing the transform method that:\n",
    "\n",
    "* Accepts strings or a list of srings\n",
    "* And returns a numpy array\n",
    "\n",
    "we can create our own custom vectoriser such as the one-hot encoding model shown here. Check out the other DEMO notebooks to see how use the Vectorstore and Vectorisers in other ways and how to deploy your search system over a RestAPI service :)"
   ]
  }
 ],
 "metadata": {
  "kernelspec": {
   "display_name": ".c_venv",
   "language": "python",
   "name": "python3"
  },
  "language_info": {
   "codemirror_mode": {
    "name": "ipython",
    "version": 3
   },
   "file_extension": ".py",
   "mimetype": "text/x-python",
   "name": "python",
   "nbconvert_exporter": "python",
   "pygments_lexer": "ipython3",
   "version": "3.12.11"
  }
 },
 "nbformat": 4,
 "nbformat_minor": 2
}
