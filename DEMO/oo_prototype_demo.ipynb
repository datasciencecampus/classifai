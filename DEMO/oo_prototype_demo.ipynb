{
 "cells": [
  {
   "cell_type": "markdown",
   "metadata": {},
   "source": [
    "# ClassifAI Package \n",
    "## Object Oriented Demo ✨\n"
   ]
  },
  {
   "cell_type": "markdown",
   "metadata": {},
   "source": [
    "#### The ClassifAI package is a tool to help in the creation and serving of vector databases, for classification tasks."
   ]
  },
  {
   "cell_type": "markdown",
   "metadata": {},
   "source": [
    "#### This Notebook is a quick guide that shows how the package can separate three main concerns involved in making a live, searchable, vector database for your applications:"
   ]
  },
  {
   "cell_type": "markdown",
   "metadata": {
    "vscode": {
     "languageId": "plaintext"
    }
   },
   "source": [
    "1. **Vectorising** - The creation of vectors from text  \n",
    "2. **Indexing** - The creation of a vector store, converting many texts to vectors \n",
    "3. **Serving** - Wrapping the Vector Store in an API to make it searchable from endpoints"
   ]
  },
  {
   "cell_type": "markdown",
   "metadata": {},
   "source": [
    "#### We provide three key modules in this package, that let you build Rest-API search systems from your text data using these three classes together in one development process."
   ]
  },
  {
   "cell_type": "markdown",
   "metadata": {},
   "source": [
    "```markdown\n",
    "![Workflow Diagram](files/intro.png)\n",
    "```"
   ]
  },
  {
   "cell_type": "markdown",
   "metadata": {},
   "source": [
    "## Setup"
   ]
  },
  {
   "cell_type": "code",
   "execution_count": null,
   "metadata": {},
   "outputs": [],
   "source": [
    "!pip install ipykernel\n",
    "!pip install ipywidgets"
   ]
  },
  {
   "cell_type": "code",
   "execution_count": null,
   "metadata": {},
   "outputs": [],
   "source": [
    "!pip install git+https://github.com/datasciencecampus/classifAI_API@oo-prototype\n"
   ]
  },
  {
   "cell_type": "code",
   "execution_count": null,
   "metadata": {},
   "outputs": [],
   "source": [
    "!gcloud auth application-default login"
   ]
  },
  {
   "cell_type": "markdown",
   "metadata": {},
   "source": [
    "## Vectorising\n",
    "\n",
    "We provide several vectoriser classes - that you can use to convert text to embeddings/vectors"
   ]
  },
  {
   "cell_type": "markdown",
   "metadata": {},
   "source": [
    "```markdown\n",
    "![Workflow Diagram](files/vectoriser.png)\n",
    "```"
   ]
  },
  {
   "cell_type": "code",
   "execution_count": 2,
   "metadata": {},
   "outputs": [
    {
     "data": {
      "text/plain": [
       "array([[-4.22041267e-01, -4.10377234e-01, -4.79407161e-01,\n",
       "        -7.37738162e-02,  1.84127182e-01,  7.83520713e-02,\n",
       "        -1.13779500e-01,  2.69262046e-01, -2.63399690e-01,\n",
       "        -2.31431574e-02, -2.26780459e-01, -1.37488946e-01,\n",
       "         7.27206469e-02,  8.67812857e-02,  3.72249275e-01,\n",
       "         1.19233511e-01, -1.69905335e-01,  1.92818478e-01,\n",
       "        -4.00653422e-01, -3.09419453e-01,  2.70585865e-01,\n",
       "         2.20776826e-01,  1.22355677e-01, -1.28483042e-01,\n",
       "        -2.09892988e-01,  3.53233993e-01,  2.28323430e-01,\n",
       "        -3.78446400e-01,  2.30527714e-01, -2.21412882e-01,\n",
       "        -2.15664342e-01, -5.41087613e-02,  3.89351815e-01,\n",
       "         2.29717374e-01, -4.39128220e-01,  5.05839765e-01,\n",
       "        -4.14097816e-01,  6.41432777e-02, -2.26554405e-02,\n",
       "        -2.16778591e-01, -5.79406857e-01,  2.08568498e-01,\n",
       "         1.58676267e-01, -5.79368114e-01,  5.55266500e-01,\n",
       "         1.76069494e-02, -4.18267787e-01, -2.87758768e-01,\n",
       "         5.84228516e-01, -5.10404352e-03, -5.70754349e-01,\n",
       "        -1.98850974e-01, -5.49067669e-02,  4.20825705e-02,\n",
       "        -1.58275634e-01,  2.90820450e-01,  4.31479126e-01,\n",
       "        -2.20019534e-01, -8.11567679e-02, -1.51846215e-01,\n",
       "         7.40466714e-02, -1.21037565e-01,  1.76728338e-01,\n",
       "         7.20783845e-02, -7.47557208e-02,  1.72079757e-01,\n",
       "        -2.29292065e-01,  6.53982908e-02,  3.74298662e-01,\n",
       "        -2.65911758e-01,  3.81563343e-02,  2.73062736e-01,\n",
       "         4.06428166e-02,  4.11105663e-01,  1.35935530e-01,\n",
       "         1.15090661e-01, -1.55865759e-01, -6.17201589e-02,\n",
       "         4.04586047e-01, -3.49103123e-01, -1.53048202e-01,\n",
       "        -1.27428129e-01,  8.30243304e-02,  5.82561076e-01,\n",
       "         5.11779726e-01,  3.22154373e-01,  3.38448912e-01,\n",
       "        -2.05088615e-01,  1.76089212e-01,  1.17495976e-01,\n",
       "         1.76670909e-01,  8.73419866e-02,  1.08605497e-01,\n",
       "         3.88907753e-02,  1.49500027e-01,  2.35996917e-01,\n",
       "        -2.39310458e-01, -4.31648463e-01, -6.44520342e-01,\n",
       "         2.18939424e-01, -5.23645401e-01, -3.81327420e-01,\n",
       "        -2.54084617e-01, -5.28748155e-01, -3.39394152e-01,\n",
       "        -5.87103330e-02,  6.18993461e-01, -3.47305834e-01,\n",
       "         1.41751900e-01, -3.15940917e-01, -1.54937834e-01,\n",
       "        -4.16919798e-01, -1.39572695e-01, -4.51139927e-01,\n",
       "         2.55607367e-01,  2.49513760e-01,  6.20405339e-02,\n",
       "         2.04296827e-01,  4.27445285e-02,  3.13371450e-01,\n",
       "        -3.65265049e-02, -6.36074841e-02, -1.16553284e-01,\n",
       "         3.93945307e-01,  3.44062388e-01, -1.34364590e-01,\n",
       "        -6.16265237e-01, -1.38841150e-32,  4.95798774e-02,\n",
       "         1.43622965e-01,  3.17517757e-01,  1.63038999e-01,\n",
       "         4.92192090e-01, -7.04632640e-01,  1.29798293e-01,\n",
       "         1.73919305e-01, -6.46160170e-02, -2.71657437e-01,\n",
       "        -3.02945703e-01,  4.72790629e-01, -5.30156732e-01,\n",
       "         3.05811375e-01,  4.28658456e-01, -4.88552094e-01,\n",
       "        -3.85892868e-01,  3.49308521e-01,  2.54674908e-02,\n",
       "        -1.17833845e-01,  3.90435398e-01, -3.88092071e-01,\n",
       "         2.86667496e-01, -8.86864290e-02,  2.71633685e-01,\n",
       "         5.49578726e-01,  6.05771899e-01, -9.00145397e-02,\n",
       "         3.98864299e-01,  2.45549589e-01, -3.72140467e-01,\n",
       "        -2.37418921e-03, -5.37275732e-01,  9.95535403e-03,\n",
       "         3.31580080e-02,  1.21972643e-01, -4.15486485e-01,\n",
       "         1.35667756e-01, -2.95345128e-01,  4.04624373e-01,\n",
       "         4.75906543e-02,  2.55172048e-02,  2.59261280e-01,\n",
       "        -2.65765071e-01, -1.42364174e-01,  3.78922299e-02,\n",
       "        -8.75495598e-02,  3.39076146e-02,  2.15803728e-01,\n",
       "         1.17850207e-01, -2.58564204e-01,  1.33935018e-02,\n",
       "         2.18010202e-01, -1.93514988e-01, -1.92275330e-01,\n",
       "        -3.81563723e-01,  1.41590789e-01,  3.43383044e-01,\n",
       "        -8.89942423e-02,  8.15154463e-02, -2.53303021e-01,\n",
       "        -3.92900035e-02, -1.73390552e-01,  4.63188589e-01,\n",
       "        -5.12630641e-01,  2.67661095e-01, -1.68798178e-01,\n",
       "         1.10052548e-01,  3.62166256e-01, -2.91043939e-03,\n",
       "         2.92786360e-01, -2.54004151e-02,  2.14556709e-01,\n",
       "         1.80955753e-01, -2.79854089e-01, -3.51105072e-02,\n",
       "        -9.34275147e-03, -3.44521195e-01, -6.34791777e-02,\n",
       "        -2.97722518e-01, -4.34022039e-01, -1.85528323e-01,\n",
       "        -5.29184639e-02,  7.31530134e-03, -2.16002971e-01,\n",
       "        -9.43148509e-02,  1.77773446e-01, -7.74186999e-02,\n",
       "        -8.60190913e-02,  2.17838004e-01, -1.11386739e-01,\n",
       "         8.33536386e-02,  1.98337913e-01,  3.38231236e-01,\n",
       "        -4.06132042e-01,  4.10722832e-33, -5.64255118e-02,\n",
       "         3.53707150e-02, -3.62869948e-01,  2.30619937e-01,\n",
       "         7.36465827e-02, -4.37558815e-02, -3.86273801e-01,\n",
       "         3.25360626e-01,  7.47314766e-02,  4.84100468e-02,\n",
       "         3.95959727e-02,  4.22022156e-02,  3.04641929e-02,\n",
       "        -1.35601219e-02, -2.51662880e-01, -9.09002200e-02,\n",
       "         1.01356782e-01, -3.54718000e-01, -3.57813276e-02,\n",
       "        -3.89941558e-02, -6.89218640e-02,  4.93661821e-01,\n",
       "        -1.82983562e-01, -5.59480965e-01,  3.91632831e-03,\n",
       "         7.84853920e-02, -3.25793505e-01,  2.75613457e-01,\n",
       "        -1.45969391e-01,  2.03860730e-01, -1.75012201e-01,\n",
       "        -1.09752722e-01, -3.94354075e-01,  5.48605956e-02,\n",
       "        -2.29653701e-01,  3.80350202e-01,  6.06482863e-01,\n",
       "        -2.94466794e-01, -1.64940551e-01,  4.69089091e-01,\n",
       "         3.53279024e-01, -2.45740011e-01, -4.52636570e-01,\n",
       "        -5.23901023e-02, -3.16099599e-02, -3.65164801e-02,\n",
       "        -2.89361477e-01,  6.84964597e-01,  6.37573674e-02,\n",
       "        -9.06422734e-02, -1.19753137e-01, -1.44962579e-01,\n",
       "        -9.17825324e-04, -5.91392875e-01, -2.18155712e-01,\n",
       "        -6.19662777e-02,  3.80623609e-01, -9.22057554e-02,\n",
       "        -5.46420395e-01,  5.12308478e-01, -7.92810857e-01,\n",
       "        -3.05018246e-01,  1.52726248e-01, -9.14907083e-02,\n",
       "        -1.92697480e-01,  1.22252561e-01,  6.18086271e-02,\n",
       "        -3.80669013e-02, -1.60390094e-01, -2.89986819e-01,\n",
       "         3.77203286e-01,  7.37148449e-02, -1.04043245e-01,\n",
       "         4.95383292e-01, -6.28103375e-01, -4.44605108e-03,\n",
       "         1.87606558e-01,  2.75018424e-01,  2.32074410e-01,\n",
       "        -6.82326108e-02,  2.43276015e-01, -3.96893710e-01,\n",
       "        -9.86473914e-03,  1.07671872e-01,  6.71444386e-02,\n",
       "         4.89862651e-01,  1.43691331e-01, -5.09060845e-02,\n",
       "         2.03407794e-01,  3.72067779e-01, -4.32653934e-01,\n",
       "         7.97090948e-01,  2.61501461e-01,  3.21085453e-01,\n",
       "        -5.43663740e-01, -9.61473674e-08, -8.27170238e-02,\n",
       "        -2.65158117e-02,  5.70790231e-01,  2.19540790e-01,\n",
       "         7.50953481e-02,  2.90248264e-02, -4.42791373e-01,\n",
       "         1.78716108e-01,  5.16122766e-02,  2.47449446e-02,\n",
       "         5.89545369e-02,  8.33404586e-02, -3.96417342e-02,\n",
       "         1.33516833e-01,  1.26458451e-01, -2.28560232e-02,\n",
       "         3.90792668e-01,  4.02113259e-01,  2.61698905e-02,\n",
       "        -2.33786002e-01,  3.17745745e-01, -2.34359458e-01,\n",
       "        -6.81011826e-02,  5.98326027e-02,  2.41853595e-02,\n",
       "        -6.90328777e-01, -2.55439966e-03, -1.96166262e-01,\n",
       "        -1.16132699e-01,  2.71863043e-01, -1.62658662e-01,\n",
       "         5.09275854e-01,  4.01880562e-01, -2.27165669e-01,\n",
       "         7.04435825e-01,  6.12680554e-01,  8.86089280e-02,\n",
       "        -1.85537025e-01, -5.01513362e-01, -5.45250215e-02,\n",
       "         4.13105190e-02,  2.68375903e-01, -1.40827030e-01,\n",
       "        -4.49409574e-01,  4.68383163e-01,  1.26268238e-01,\n",
       "         7.25462958e-02, -7.70545781e-01,  2.86229223e-01,\n",
       "         1.02341816e-01, -3.08250278e-01,  1.02778122e-01,\n",
       "        -1.31873384e-01,  2.93524772e-01,  3.11279684e-01,\n",
       "         2.44285345e-01, -1.00452833e-01, -4.11034644e-01,\n",
       "         8.55710879e-02,  4.00833309e-01,  6.35195002e-02,\n",
       "         5.84426045e-01, -1.56805947e-01,  4.23231989e-01]], dtype=float32)"
      ]
     },
     "execution_count": 2,
     "metadata": {},
     "output_type": "execute_result"
    }
   ],
   "source": [
    "from classifAI_API.vectorisers import HuggingFaceVectoriser\n",
    "\n",
    "#But this also works with many different huggingface models!\n",
    "vectoriser = HuggingFaceVectoriser(model_name=\"sentence-transformers/all-MiniLM-L6-v2\")\n",
    "\n",
    "my_first_vector = vectoriser.transform(\"ClassifAI is a great tool for building AI applications.\")\n",
    "\n",
    "my_first_vector  "
   ]
  },
  {
   "cell_type": "markdown",
   "metadata": {},
   "source": [
    "#### Huggingface models might be the most accessible, but we also provide a GCP_Vectoriser if you have a vertex account set up!"
   ]
  },
  {
   "cell_type": "code",
   "execution_count": null,
   "metadata": {},
   "outputs": [],
   "source": [
    "from classifAI_API.vectorisers import GcpVectoriser\n",
    "\n",
    "my_gcp_vectoriser = GcpVectoriser(project_id=\"<YOUR PROJECT ID>\",)\n",
    "\n",
    "my_second_vector = my_gcp_vectoriser.transform(\"The quick brown fox jumps over the log\")\n",
    "\n",
    "my_second_vector.shape"
   ]
  },
  {
   "cell_type": "markdown",
   "metadata": {},
   "source": [
    "#### Both of these Vectoriser classes accept strings (or lists of strings) and return numpy arrays:"
   ]
  },
  {
   "cell_type": "markdown",
   "metadata": {},
   "source": [
    "## Indexing"
   ]
  },
  {
   "cell_type": "markdown",
   "metadata": {},
   "source": [
    "#### We then provide an Indexer Class that allows you to create and store vectors. You pass it **any** of the Vectoriser models\n",
    "\n",
    "#### its job is to iterate over a csv file you provide and convert it to vectors and store it:"
   ]
  },
  {
   "cell_type": "code",
   "execution_count": null,
   "metadata": {},
   "outputs": [],
   "source": [
    "from classifAI_API.indexers import VectorStore\n",
    "\n",
    "\n",
    "my_vector_store = VectorStore(\n",
    "    file_name=\"data/testdata.csv\",\n",
    "    data_type=\"csv\",\n",
    "    vectoriser=vectoriser, #or switch to the GcpVectoriser if you have it :)\n",
    "    batch_size=10\n",
    ")"
   ]
  },
  {
   "cell_type": "markdown",
   "metadata": {},
   "source": [
    "#### Once this is created you can search the vector store by calling the .search() method on the object!\n",
    "\n",
    "`You might also notice that the vector store and its metadata are now stored in the \"classifai_vector_store\" folder`\n",
    "\n",
    "From here you can load existing vector stores in from memory without doing the indexing again - call the class method **VectorStore.from_filespace()**"
   ]
  },
  {
   "cell_type": "code",
   "execution_count": null,
   "metadata": {},
   "outputs": [
    {
     "data": {
      "text/html": [
       "<div><style>\n",
       ".dataframe > thead > tr,\n",
       ".dataframe > tbody > tr {\n",
       "  text-align: right;\n",
       "  white-space: pre-wrap;\n",
       "}\n",
       "</style>\n",
       "<small>shape: (10, 6)</small><table border=\"1\" class=\"dataframe\"><thead><tr><th>query_id</th><th>query_text</th><th>doc_id</th><th>doc_text</th><th>rank</th><th>score</th></tr><tr><td>i64</td><td>str</td><td>str</td><td>str</td><td>i64</td><td>f64</td></tr></thead><tbody><tr><td>0</td><td>&quot;What colour is snow?@&quot;</td><td>&quot;1004&quot;</td><td>&quot;&quot;Snow is white.&quot;&quot;</td><td>0</td><td>18.900158</td></tr><tr><td>0</td><td>&quot;What colour is snow?@&quot;</td><td>&quot;1003&quot;</td><td>&quot;&quot;Grass is green.&quot;&quot;</td><td>1</td><td>8.781666</td></tr><tr><td>0</td><td>&quot;What colour is snow?@&quot;</td><td>&quot;1001&quot;</td><td>&quot;&quot;The sky is blue.&quot;&quot;</td><td>2</td><td>8.378674</td></tr><tr><td>0</td><td>&quot;What colour is snow?@&quot;</td><td>&quot;1009&quot;</td><td>&quot;&quot;Rain falls from clouds.&quot;&quot;</td><td>3</td><td>6.892408</td></tr><tr><td>0</td><td>&quot;What colour is snow?@&quot;</td><td>&quot;1007&quot;</td><td>&quot;&quot;Flowers bloom in spring.&quot;&quot;</td><td>4</td><td>5.258996</td></tr><tr><td>0</td><td>&quot;What colour is snow?@&quot;</td><td>&quot;1008&quot;</td><td>&quot;&quot;The desert is hot.&quot;&quot;</td><td>5</td><td>4.887315</td></tr><tr><td>0</td><td>&quot;What colour is snow?@&quot;</td><td>&quot;1006&quot;</td><td>&quot;&quot;Mountains are tall.&quot;&quot;</td><td>6</td><td>4.532707</td></tr><tr><td>0</td><td>&quot;What colour is snow?@&quot;</td><td>&quot;1002&quot;</td><td>&quot;&quot;Apples are sweet.&quot;&quot;</td><td>7</td><td>3.380986</td></tr><tr><td>0</td><td>&quot;What colour is snow?@&quot;</td><td>&quot;1005&quot;</td><td>&quot;&quot;The ocean is vast.&quot;&quot;</td><td>8</td><td>1.276922</td></tr><tr><td>0</td><td>&quot;What colour is snow?@&quot;</td><td>&quot;1010&quot;</td><td>&quot;&quot;Books are full of knowledge.&quot;&quot;</td><td>9</td><td>0.950359</td></tr></tbody></table></div>"
      ],
      "text/plain": [
       "shape: (10, 6)\n",
       "┌──────────┬───────────────────────┬────────┬────────────────────────────────┬──────┬───────────┐\n",
       "│ query_id ┆ query_text            ┆ doc_id ┆ doc_text                       ┆ rank ┆ score     │\n",
       "│ ---      ┆ ---                   ┆ ---    ┆ ---                            ┆ ---  ┆ ---       │\n",
       "│ i64      ┆ str                   ┆ str    ┆ str                            ┆ i64  ┆ f64       │\n",
       "╞══════════╪═══════════════════════╪════════╪════════════════════════════════╪══════╪═══════════╡\n",
       "│ 0        ┆ What colour is snow?@ ┆ 1004   ┆ \"Snow is white.\"               ┆ 0    ┆ 18.900158 │\n",
       "│ 0        ┆ What colour is snow?@ ┆ 1003   ┆ \"Grass is green.\"              ┆ 1    ┆ 8.781666  │\n",
       "│ 0        ┆ What colour is snow?@ ┆ 1001   ┆ \"The sky is blue.\"             ┆ 2    ┆ 8.378674  │\n",
       "│ 0        ┆ What colour is snow?@ ┆ 1009   ┆ \"Rain falls from clouds.\"      ┆ 3    ┆ 6.892408  │\n",
       "│ 0        ┆ What colour is snow?@ ┆ 1007   ┆ \"Flowers bloom in spring.\"     ┆ 4    ┆ 5.258996  │\n",
       "│ 0        ┆ What colour is snow?@ ┆ 1008   ┆ \"The desert is hot.\"           ┆ 5    ┆ 4.887315  │\n",
       "│ 0        ┆ What colour is snow?@ ┆ 1006   ┆ \"Mountains are tall.\"          ┆ 6    ┆ 4.532707  │\n",
       "│ 0        ┆ What colour is snow?@ ┆ 1002   ┆ \"Apples are sweet.\"            ┆ 7    ┆ 3.380986  │\n",
       "│ 0        ┆ What colour is snow?@ ┆ 1005   ┆ \"The ocean is vast.\"           ┆ 8    ┆ 1.276922  │\n",
       "│ 0        ┆ What colour is snow?@ ┆ 1010   ┆ \"Books are full of knowledge.\" ┆ 9    ┆ 0.950359  │\n",
       "└──────────┴───────────────────────┴────────┴────────────────────────────────┴──────┴───────────┘"
      ]
     },
     "execution_count": 24,
     "metadata": {},
     "output_type": "execute_result"
    }
   ],
   "source": [
    "my_vector_store.search(\"What colour is snow?\")"
   ]
  },
  {
   "cell_type": "code",
   "execution_count": 26,
   "metadata": {},
   "outputs": [
    {
     "data": {
      "text/html": [
       "<div><style>\n",
       ".dataframe > thead > tr,\n",
       ".dataframe > tbody > tr {\n",
       "  text-align: right;\n",
       "  white-space: pre-wrap;\n",
       "}\n",
       "</style>\n",
       "<small>shape: (10, 6)</small><table border=\"1\" class=\"dataframe\"><thead><tr><th>query_id</th><th>query_text</th><th>doc_id</th><th>doc_text</th><th>rank</th><th>score</th></tr><tr><td>i64</td><td>str</td><td>str</td><td>str</td><td>i64</td><td>f64</td></tr></thead><tbody><tr><td>0</td><td>&quot;What colour is snow?&quot;</td><td>&quot;1004&quot;</td><td>&quot;&quot;Snow is white.&quot;&quot;</td><td>0</td><td>21.517035</td></tr><tr><td>0</td><td>&quot;What colour is snow?&quot;</td><td>&quot;1003&quot;</td><td>&quot;&quot;Grass is green.&quot;&quot;</td><td>1</td><td>10.439695</td></tr><tr><td>0</td><td>&quot;What colour is snow?&quot;</td><td>&quot;1001&quot;</td><td>&quot;&quot;The sky is blue.&quot;&quot;</td><td>2</td><td>10.01306</td></tr><tr><td>0</td><td>&quot;What colour is snow?&quot;</td><td>&quot;1009&quot;</td><td>&quot;&quot;Rain falls from clouds.&quot;&quot;</td><td>3</td><td>8.291956</td></tr><tr><td>0</td><td>&quot;What colour is snow?&quot;</td><td>&quot;1006&quot;</td><td>&quot;&quot;Mountains are tall.&quot;&quot;</td><td>4</td><td>6.119362</td></tr><tr><td>1</td><td>&quot;what is inside books&quot;</td><td>&quot;1001&quot;</td><td>&quot;&quot;The sky is blue.&quot;&quot;</td><td>0</td><td>0.0</td></tr><tr><td>1</td><td>&quot;what is inside books&quot;</td><td>&quot;1001&quot;</td><td>&quot;&quot;The sky is blue.&quot;&quot;</td><td>1</td><td>0.0</td></tr><tr><td>1</td><td>&quot;what is inside books&quot;</td><td>&quot;1001&quot;</td><td>&quot;&quot;The sky is blue.&quot;&quot;</td><td>2</td><td>0.0</td></tr><tr><td>1</td><td>&quot;what is inside books&quot;</td><td>&quot;1001&quot;</td><td>&quot;&quot;The sky is blue.&quot;&quot;</td><td>3</td><td>0.0</td></tr><tr><td>1</td><td>&quot;what is inside books&quot;</td><td>&quot;1001&quot;</td><td>&quot;&quot;The sky is blue.&quot;&quot;</td><td>4</td><td>0.0</td></tr></tbody></table></div>"
      ],
      "text/plain": [
       "shape: (10, 6)\n",
       "┌──────────┬──────────────────────┬────────┬───────────────────────────┬──────┬───────────┐\n",
       "│ query_id ┆ query_text           ┆ doc_id ┆ doc_text                  ┆ rank ┆ score     │\n",
       "│ ---      ┆ ---                  ┆ ---    ┆ ---                       ┆ ---  ┆ ---       │\n",
       "│ i64      ┆ str                  ┆ str    ┆ str                       ┆ i64  ┆ f64       │\n",
       "╞══════════╪══════════════════════╪════════╪═══════════════════════════╪══════╪═══════════╡\n",
       "│ 0        ┆ What colour is snow? ┆ 1004   ┆ \"Snow is white.\"          ┆ 0    ┆ 21.517035 │\n",
       "│ 0        ┆ What colour is snow? ┆ 1003   ┆ \"Grass is green.\"         ┆ 1    ┆ 10.439695 │\n",
       "│ 0        ┆ What colour is snow? ┆ 1001   ┆ \"The sky is blue.\"        ┆ 2    ┆ 10.01306  │\n",
       "│ 0        ┆ What colour is snow? ┆ 1009   ┆ \"Rain falls from clouds.\" ┆ 3    ┆ 8.291956  │\n",
       "│ 0        ┆ What colour is snow? ┆ 1006   ┆ \"Mountains are tall.\"     ┆ 4    ┆ 6.119362  │\n",
       "│ 1        ┆ what is inside books ┆ 1001   ┆ \"The sky is blue.\"        ┆ 0    ┆ 0.0       │\n",
       "│ 1        ┆ what is inside books ┆ 1001   ┆ \"The sky is blue.\"        ┆ 1    ┆ 0.0       │\n",
       "│ 1        ┆ what is inside books ┆ 1001   ┆ \"The sky is blue.\"        ┆ 2    ┆ 0.0       │\n",
       "│ 1        ┆ what is inside books ┆ 1001   ┆ \"The sky is blue.\"        ┆ 3    ┆ 0.0       │\n",
       "│ 1        ┆ what is inside books ┆ 1001   ┆ \"The sky is blue.\"        ┆ 4    ┆ 0.0       │\n",
       "└──────────┴──────────────────────┴────────┴───────────────────────────┴──────┴───────────┘"
      ]
     },
     "execution_count": 26,
     "metadata": {},
     "output_type": "execute_result"
    }
   ],
   "source": [
    "#or multiple queries at once!\n",
    "my_vector_store.search([\"What colour is snow?\", \"what is inside books\"], n_results=5)"
   ]
  },
  {
   "cell_type": "markdown",
   "metadata": {},
   "source": [
    "#### this all seemlessly uses the vector model and the vector database you indexed to bring you the top K search results"
   ]
  },
  {
   "cell_type": "markdown",
   "metadata": {},
   "source": [
    "## Serving up your VectorStore!"
   ]
  },
  {
   "cell_type": "markdown",
   "metadata": {},
   "source": [
    "#### So you've created a vectorstore, with you chosen vectoriser, that makes vectors and you can search it.... **how do I host it so others can use it?**"
   ]
  },
  {
   "cell_type": "code",
   "execution_count": 28,
   "metadata": {},
   "outputs": [
    {
     "name": "stdout",
     "output_type": "stream",
     "text": [
      "1\n"
     ]
    }
   ],
   "source": [
    "async def main():\n",
    "    print(1)\n",
    "    \n",
    "await main()"
   ]
  },
  {
   "cell_type": "code",
   "execution_count": 29,
   "metadata": {},
   "outputs": [
    {
     "name": "stderr",
     "output_type": "stream",
     "text": [
      "INFO - Starting ClassifAI API\n",
      "INFO - Registering endpoints for: easy_lib\n"
     ]
    },
    {
     "ename": "RuntimeError",
     "evalue": "asyncio.run() cannot be called from a running event loop",
     "output_type": "error",
     "traceback": [
      "\u001b[31m---------------------------------------------------------------------------\u001b[39m",
      "\u001b[31mRuntimeError\u001b[39m                              Traceback (most recent call last)",
      "\u001b[36mCell\u001b[39m\u001b[36m \u001b[39m\u001b[32mIn[29]\u001b[39m\u001b[32m, line 3\u001b[39m\n\u001b[32m      1\u001b[39m \u001b[38;5;28;01mfrom\u001b[39;00m\u001b[38;5;250m \u001b[39m\u001b[34;01mclassifAI_API\u001b[39;00m\u001b[34;01m.\u001b[39;00m\u001b[34;01mservers\u001b[39;00m\u001b[38;5;250m \u001b[39m\u001b[38;5;28;01mimport\u001b[39;00m start_api\n\u001b[32m----> \u001b[39m\u001b[32m3\u001b[39m \u001b[43mstart_api\u001b[49m\u001b[43m(\u001b[49m\u001b[43mvector_stores\u001b[49m\u001b[43m=\u001b[49m\u001b[43m[\u001b[49m\u001b[43mmy_vector_store\u001b[49m\u001b[43m]\u001b[49m\u001b[43m,\u001b[49m\u001b[43m \u001b[49m\u001b[43mendpoint_names\u001b[49m\u001b[43m=\u001b[49m\u001b[43m[\u001b[49m\u001b[33;43m\"\u001b[39;49m\u001b[33;43measy_lib\u001b[39;49m\u001b[33;43m\"\u001b[39;49m\u001b[43m]\u001b[49m\u001b[43m,\u001b[49m\u001b[43m \u001b[49m\u001b[43mport\u001b[49m\u001b[43m=\u001b[49m\u001b[32;43m8000\u001b[39;49m\u001b[43m)\u001b[49m\n",
      "\u001b[36mFile \u001b[39m\u001b[32m~/Desktop/demo_stlye/.vevn/lib/python3.12/site-packages/classifAI_API/servers/main.py:111\u001b[39m, in \u001b[36mstart_api\u001b[39m\u001b[34m(vector_stores, endpoint_names, port)\u001b[39m\n\u001b[32m    108\u001b[39m     start_page = RedirectResponse(url=\u001b[33m\"\u001b[39m\u001b[33m/docs\u001b[39m\u001b[33m\"\u001b[39m)\n\u001b[32m    109\u001b[39m     \u001b[38;5;28;01mreturn\u001b[39;00m start_page\n\u001b[32m--> \u001b[39m\u001b[32m111\u001b[39m \u001b[43muvicorn\u001b[49m\u001b[43m.\u001b[49m\u001b[43mrun\u001b[49m\u001b[43m(\u001b[49m\u001b[43mapp\u001b[49m\u001b[43m,\u001b[49m\u001b[43m \u001b[49m\u001b[43mport\u001b[49m\u001b[43m=\u001b[49m\u001b[32;43m8000\u001b[39;49m\u001b[43m,\u001b[49m\u001b[43m \u001b[49m\u001b[43mlog_level\u001b[49m\u001b[43m=\u001b[49m\u001b[33;43m\"\u001b[39;49m\u001b[33;43minfo\u001b[39;49m\u001b[33;43m\"\u001b[39;49m\u001b[43m)\u001b[49m\n",
      "\u001b[36mFile \u001b[39m\u001b[32m~/Desktop/demo_stlye/.vevn/lib/python3.12/site-packages/uvicorn/main.py:580\u001b[39m, in \u001b[36mrun\u001b[39m\u001b[34m(app, host, port, uds, fd, loop, http, ws, ws_max_size, ws_max_queue, ws_ping_interval, ws_ping_timeout, ws_per_message_deflate, lifespan, interface, reload, reload_dirs, reload_includes, reload_excludes, reload_delay, workers, env_file, log_config, log_level, access_log, proxy_headers, server_header, date_header, forwarded_allow_ips, root_path, limit_concurrency, backlog, limit_max_requests, timeout_keep_alive, timeout_graceful_shutdown, ssl_keyfile, ssl_certfile, ssl_keyfile_password, ssl_version, ssl_cert_reqs, ssl_ca_certs, ssl_ciphers, headers, use_colors, app_dir, factory, h11_max_incomplete_event_size)\u001b[39m\n\u001b[32m    578\u001b[39m         Multiprocess(config, target=server.run, sockets=[sock]).run()\n\u001b[32m    579\u001b[39m     \u001b[38;5;28;01melse\u001b[39;00m:\n\u001b[32m--> \u001b[39m\u001b[32m580\u001b[39m         \u001b[43mserver\u001b[49m\u001b[43m.\u001b[49m\u001b[43mrun\u001b[49m\u001b[43m(\u001b[49m\u001b[43m)\u001b[49m\n\u001b[32m    581\u001b[39m \u001b[38;5;28;01mexcept\u001b[39;00m \u001b[38;5;167;01mKeyboardInterrupt\u001b[39;00m:\n\u001b[32m    582\u001b[39m     \u001b[38;5;28;01mpass\u001b[39;00m  \u001b[38;5;66;03m# pragma: full coverage\u001b[39;00m\n",
      "\u001b[36mFile \u001b[39m\u001b[32m~/Desktop/demo_stlye/.vevn/lib/python3.12/site-packages/uvicorn/server.py:66\u001b[39m, in \u001b[36mServer.run\u001b[39m\u001b[34m(self, sockets)\u001b[39m\n\u001b[32m     64\u001b[39m \u001b[38;5;28;01mdef\u001b[39;00m\u001b[38;5;250m \u001b[39m\u001b[34mrun\u001b[39m(\u001b[38;5;28mself\u001b[39m, sockets: \u001b[38;5;28mlist\u001b[39m[socket.socket] | \u001b[38;5;28;01mNone\u001b[39;00m = \u001b[38;5;28;01mNone\u001b[39;00m) -> \u001b[38;5;28;01mNone\u001b[39;00m:\n\u001b[32m     65\u001b[39m     \u001b[38;5;28mself\u001b[39m.config.setup_event_loop()\n\u001b[32m---> \u001b[39m\u001b[32m66\u001b[39m     \u001b[38;5;28;01mreturn\u001b[39;00m \u001b[43masyncio\u001b[49m\u001b[43m.\u001b[49m\u001b[43mrun\u001b[49m\u001b[43m(\u001b[49m\u001b[38;5;28;43mself\u001b[39;49m\u001b[43m.\u001b[49m\u001b[43mserve\u001b[49m\u001b[43m(\u001b[49m\u001b[43msockets\u001b[49m\u001b[43m=\u001b[49m\u001b[43msockets\u001b[49m\u001b[43m)\u001b[49m\u001b[43m)\u001b[49m\n",
      "\u001b[36mFile \u001b[39m\u001b[32m/Library/Frameworks/Python.framework/Versions/3.12/lib/python3.12/asyncio/runners.py:190\u001b[39m, in \u001b[36mrun\u001b[39m\u001b[34m(main, debug, loop_factory)\u001b[39m\n\u001b[32m    161\u001b[39m \u001b[38;5;250m\u001b[39m\u001b[33;03m\"\"\"Execute the coroutine and return the result.\u001b[39;00m\n\u001b[32m    162\u001b[39m \n\u001b[32m    163\u001b[39m \u001b[33;03mThis function runs the passed coroutine, taking care of\u001b[39;00m\n\u001b[32m   (...)\u001b[39m\u001b[32m    186\u001b[39m \u001b[33;03m    asyncio.run(main())\u001b[39;00m\n\u001b[32m    187\u001b[39m \u001b[33;03m\"\"\"\u001b[39;00m\n\u001b[32m    188\u001b[39m \u001b[38;5;28;01mif\u001b[39;00m events._get_running_loop() \u001b[38;5;129;01mis\u001b[39;00m \u001b[38;5;129;01mnot\u001b[39;00m \u001b[38;5;28;01mNone\u001b[39;00m:\n\u001b[32m    189\u001b[39m     \u001b[38;5;66;03m# fail fast with short traceback\u001b[39;00m\n\u001b[32m--> \u001b[39m\u001b[32m190\u001b[39m     \u001b[38;5;28;01mraise\u001b[39;00m \u001b[38;5;167;01mRuntimeError\u001b[39;00m(\n\u001b[32m    191\u001b[39m         \u001b[33m\"\u001b[39m\u001b[33masyncio.run() cannot be called from a running event loop\u001b[39m\u001b[33m\"\u001b[39m)\n\u001b[32m    193\u001b[39m \u001b[38;5;28;01mwith\u001b[39;00m Runner(debug=debug, loop_factory=loop_factory) \u001b[38;5;28;01mas\u001b[39;00m runner:\n\u001b[32m    194\u001b[39m     \u001b[38;5;28;01mreturn\u001b[39;00m runner.run(main)\n",
      "\u001b[31mRuntimeError\u001b[39m: asyncio.run() cannot be called from a running event loop"
     ]
    }
   ],
   "source": [
    "from classifAI_API.servers import start_api\n",
    "\n",
    "start_api(vector_stores=[my_vector_store], endpoint_names=[\"easy_lib\"], port=8000)"
   ]
  },
  {
   "cell_type": "markdown",
   "metadata": {},
   "source": [
    "### But starting a server doesn't work in Jupyter, so you'll need to run demo_part2.py (also in this folder) from command line"
   ]
  },
  {
   "cell_type": "markdown",
   "metadata": {},
   "source": []
  }
 ],
 "metadata": {
  "kernelspec": {
   "display_name": ".venv",
   "language": "python",
   "name": "python3"
  },
  "language_info": {
   "codemirror_mode": {
    "name": "ipython",
    "version": 3
   },
   "file_extension": ".py",
   "mimetype": "text/x-python",
   "name": "python",
   "nbconvert_exporter": "python",
   "pygments_lexer": "ipython3",
   "version": "3.13.5"
  }
 },
 "nbformat": 4,
 "nbformat_minor": 2
}
